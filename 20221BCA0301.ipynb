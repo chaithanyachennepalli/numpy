{
  "nbformat": 4,
  "nbformat_minor": 0,
  "metadata": {
    "colab": {
      "provenance": []
    },
    "kernelspec": {
      "name": "python3",
      "display_name": "Python 3"
    },
    "language_info": {
      "name": "python"
    }
  },
  "cells": [
    {
      "cell_type": "markdown",
      "source": [
        "20/11/2023(monday)"
      ],
      "metadata": {
        "id": "QfGj44GDT_k4"
      }
    },
    {
      "cell_type": "code",
      "source": [
        "F1 = open(\"demo1.txt\",\"r\")"
      ],
      "metadata": {
        "id": "EaaSvi-EUGeQ"
      },
      "execution_count": 16,
      "outputs": []
    },
    {
      "cell_type": "code",
      "source": [
        "def main():\n",
        "  obj1 = open(\"demo1.txt\", \"w\") #Opens a file in Write mode\n",
        "  obj1.write(\"Hello, How are you? \\n\")\n",
        "  obj1.write(\"Welcome to The File Handling. \\n\")\n",
        "  obj1.write(\"Enjoy the session. \\n\")\n",
        "\n",
        "\n",
        "main()\n"
      ],
      "metadata": {
        "id": "ovVthQjFUthh"
      },
      "execution_count": 11,
      "outputs": []
    },
    {
      "cell_type": "code",
      "source": [
        "fp1 = open(\"demo1.txt\",\"w\")"
      ],
      "metadata": {
        "id": "BRZWNFHNUxcA"
      },
      "execution_count": 12,
      "outputs": []
    },
    {
      "cell_type": "code",
      "source": [
        "fp1.close()"
      ],
      "metadata": {
        "id": "D06sm_wSU16g"
      },
      "execution_count": 4,
      "outputs": []
    },
    {
      "cell_type": "code",
      "source": [
        "def main():\n",
        "  obj1 = open(\"WriteNumbers.txt\",\"w\")\n",
        "  for x in range(1,21):\n",
        "    x=str(x)\n",
        "    obj1.write(x)\n",
        "    obj1.write(\"\\n\")\n",
        "  obj1.close()\n",
        "\n",
        "main()"
      ],
      "metadata": {
        "id": "UDIDrOY8U5Tp"
      },
      "execution_count": 5,
      "outputs": []
    },
    {
      "cell_type": "code",
      "source": [],
      "metadata": {
        "id": "EzHalLIZYyCb"
      },
      "execution_count": null,
      "outputs": []
    },
    {
      "cell_type": "code",
      "source": [
        "from random import randint\n",
        "fp1 = open(\"WriteNumRandom.txt\",\"w\")\n",
        "for x in range(51):\n",
        "  x = randint(500,1000)\n",
        "  x = str(x)\n",
        "  fp1.write(x + \" \")\n",
        "\n",
        "fp1.close()"
      ],
      "metadata": {
        "id": "wVdYT1OCU_Hp"
      },
      "execution_count": 6,
      "outputs": []
    },
    {
      "cell_type": "code",
      "source": [
        "fp = open(\"demo1.txt\",\"r\")\n",
        "text = fp.read()\n",
        "print(text)"
      ],
      "metadata": {
        "colab": {
          "base_uri": "https://localhost:8080/"
        },
        "id": "q5Z6V9csVQQ7",
        "outputId": "1424a592-dcf2-484c-d069-7c8611e67716"
      },
      "execution_count": 17,
      "outputs": [
        {
          "output_type": "stream",
          "name": "stdout",
          "text": [
            "\n"
          ]
        }
      ]
    }
  ]
}